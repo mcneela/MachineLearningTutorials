{
 "cells": [
  {
   "cell_type": "markdown",
   "metadata": {},
   "source": [
    "# The Lasso Method"
   ]
  },
  {
   "cell_type": "code",
   "execution_count": 1,
   "metadata": {
    "collapsed": true
   },
   "outputs": [],
   "source": [
    "import numpy as np\n",
    "import matplotlib.pyplot as plt\n",
    "\n",
    "%matplotlib notebook"
   ]
  },
  {
   "cell_type": "markdown",
   "metadata": {},
   "source": [
    "$\\newcommand{\\norm}[1]{\\left\\lVert#1\\right\\rVert}$\n",
    "\n",
    "The lasso method is a specialized version of linear regression based off the ordinary least squares method. Recall that in this model, we seek to fit our feature vectors $\\{x_i\\}_{i=1}^N$ where $x_i = (x_{i1}, \\ldots, x_{iM})^T  \\in \\mathbb{R}^M$ and their responses $\\{y_i\\}_{i=1}^N$ according to a linear parametrization of the form\n",
    "\n",
    "$$y_i = \\beta_0 + \\sum_{j=1}^M \\beta_jx_ij$$\n",
    "\n",
    "We fit our model by choosing the parameter vector $\\beta = (\\beta_0, \\beta_1, \\ldots, \\beta_M)^T \\in \\mathbb{R}^{M+1}$ so as to minimize the residual sum of squares error given as\n",
    "\n",
    "$$RSS(\\beta) = \\sum_{i=1}^N (y_i - \\beta_0 - \\sum_{j=1}^M \\beta_jx_{ij})^2$$\n",
    "\n",
    "Collapsing $\\beta_0$ into $\\beta$, extending $x_i$ from a vector in $\\mathbb{R}^{M}$ to one in $\\mathbb{R}^{M+1}$, and introducing a normalization constant $\\frac{1}{2N}$ we can rewrite the optimization problem as a minimization over $\\beta$ of the following generalized $RSS$ function.\n",
    "\n",
    "$$RSS(\\beta) = \\frac{1}{2N}\\norm{y_i - x_i \\dot \\beta}_2^2$$\n",
    "\n",
    "The lasso method simply imposes a constraint on this optimization, namely we require that $\\norm{\\beta}_1 \\leq t$ for some $t \\in \\mathbb{R}$."
   ]
  },
  {
   "cell_type": "code",
   "execution_count": null,
   "metadata": {
    "collapsed": true
   },
   "outputs": [],
   "source": []
  }
 ],
 "metadata": {
  "anaconda-cloud": {},
  "kernelspec": {
   "display_name": "Python [conda root]",
   "language": "python",
   "name": "conda-root-py"
  },
  "language_info": {
   "codemirror_mode": {
    "name": "ipython",
    "version": 3
   },
   "file_extension": ".py",
   "mimetype": "text/x-python",
   "name": "python",
   "nbconvert_exporter": "python",
   "pygments_lexer": "ipython3",
   "version": "3.5.2"
  }
 },
 "nbformat": 4,
 "nbformat_minor": 1
}
